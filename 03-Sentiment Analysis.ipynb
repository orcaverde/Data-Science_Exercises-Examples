{
 "cells": [
  {
   "cell_type": "markdown",
   "metadata": {},
   "source": [
    "# Sentiment Analysis_Spanish Twiters\n",
    "\n",
    "\n",
    "OBJ: To define the best model to predict sentimient(Positive, Negative, Neutro), based on the twiter messages\n"
   ]
  },
  {
   "cell_type": "markdown",
   "metadata": {},
   "source": [
    "## Libraries"
   ]
  },
  {
   "cell_type": "code",
   "execution_count": 1,
   "metadata": {},
   "outputs": [],
   "source": [
    "# DAta and numbers utility\n",
    "\n",
    "import pandas as pd \n",
    "\n",
    "import numpy as np\n",
    "\n",
    "# NLP processing\n",
    "import spacy\n",
    "from sklearn.model_selection import train_test_split  \n",
    "from sklearn.feature_extraction.text import CountVectorizer\n",
    "\n",
    "\n",
    "# ML models\n",
    "from sklearn.naive_bayes import MultinomialNB, BernoulliNB\n",
    "from sklearn.linear_model import LogisticRegression\n",
    "from sklearn.svm import SVC\n",
    "from sklearn.ensemble import RandomForestClassifier\n",
    "\n",
    "# metricas - Evaluation\n",
    "\n",
    "from sklearn.metrics import accuracy_score,precision_score, recall_score, f1_score\n",
    "\n",
    "# visualization\n",
    "import matplotlib.pyplot as plt\n",
    "import seaborn as sns\n",
    "\n",
    "from wordcloud import WordCloud, STOPWORDS\n",
    "\n",
    "# errors\n",
    "import warnings\n",
    "warnings.filterwarnings('ignore')"
   ]
  },
  {
   "cell_type": "markdown",
   "metadata": {},
   "source": [
    "## functions"
   ]
  },
  {
   "cell_type": "code",
   "execution_count": 2,
   "metadata": {},
   "outputs": [],
   "source": [
    "\n",
    "def normalize(sentenses):\n",
    "    \"\"\"normalizamos la lista de frases y devolvemos la misma lista de frases normalizada\"\"\"\n",
    "    for index, sentense in enumerate(sentenses):\n",
    "        # Tokenizamos el documento realizando los puntos 1,2 y 3.\n",
    "        sentense = nlp(sentense.lower().replace('.', ' ').replace('#', ' ').strip())# paso a lower case y sustituyo puntos y # por espacios \n",
    "        # The strip() method removes any leading (spaces at the beginning) and trailing (spaces at the end) characters (space is the default leading character to remove\n",
    "        \n",
    "        sentenses[index] = \" \".join([word.lemma_ for word in sentense if (not word.is_punct) # me quedo con los No puntuacion\n",
    "                                     and (len(word.text) > 2) and (not word.is_stop)  # me quedo con los que son mayoes que 2 caracteres\n",
    "                                     and (not word.text.startswith('@')) # elimino los que empiezan por@ (que suelen ser usuarios y no me dan informacion)\n",
    "                                     and (not word.text.startswith('http')) #idem con http, que son direcciones web\n",
    "                                     and (not ':' in word.text)]) # me elimino los dos puntos \n",
    "    return sentenses\n"
   ]
  },
  {
   "cell_type": "markdown",
   "metadata": {},
   "source": [
    "<hr>\n",
    "\n",
    "\n",
    "## Carga de Datos"
   ]
  },
  {
   "cell_type": "code",
   "execution_count": 3,
   "metadata": {},
   "outputs": [
    {
     "name": "stdout",
     "output_type": "stream",
     "text": [
      "Número de Tweets Cargados: 5735\n"
     ]
    },
    {
     "data": {
      "text/html": [
       "<div>\n",
       "<style scoped>\n",
       "    .dataframe tbody tr th:only-of-type {\n",
       "        vertical-align: middle;\n",
       "    }\n",
       "\n",
       "    .dataframe tbody tr th {\n",
       "        vertical-align: top;\n",
       "    }\n",
       "\n",
       "    .dataframe thead th {\n",
       "        text-align: right;\n",
       "    }\n",
       "</style>\n",
       "<table border=\"1\" class=\"dataframe\">\n",
       "  <thead>\n",
       "    <tr style=\"text-align: right;\">\n",
       "      <th></th>\n",
       "      <th>tweet</th>\n",
       "      <th>sentimiento</th>\n",
       "    </tr>\n",
       "  </thead>\n",
       "  <tbody>\n",
       "    <tr>\n",
       "      <th>1</th>\n",
       "      <td>@PauladeLasHeras No te libraras de ayudar me/n...</td>\n",
       "      <td>neutro</td>\n",
       "    </tr>\n",
       "    <tr>\n",
       "      <th>2</th>\n",
       "      <td>@marodriguezb Gracias MAR</td>\n",
       "      <td>positivo</td>\n",
       "    </tr>\n",
       "    <tr>\n",
       "      <th>3</th>\n",
       "      <td>Off pensando en el regalito Sinde, la que se v...</td>\n",
       "      <td>negativo</td>\n",
       "    </tr>\n",
       "    <tr>\n",
       "      <th>4</th>\n",
       "      <td>Conozco a alguien q es adicto al drama! Ja ja ...</td>\n",
       "      <td>positivo</td>\n",
       "    </tr>\n",
       "    <tr>\n",
       "      <th>6</th>\n",
       "      <td>Toca @crackoviadeTV3 . Grabación dl especial N...</td>\n",
       "      <td>positivo</td>\n",
       "    </tr>\n",
       "    <tr>\n",
       "      <th>8</th>\n",
       "      <td>Buen día todos! Lo primero mandar un abrazo gr...</td>\n",
       "      <td>positivo</td>\n",
       "    </tr>\n",
       "    <tr>\n",
       "      <th>9</th>\n",
       "      <td>Desde el escaño. Todo listo para empezar #endi...</td>\n",
       "      <td>positivo</td>\n",
       "    </tr>\n",
       "  </tbody>\n",
       "</table>\n",
       "</div>"
      ],
      "text/plain": [
       "                                               tweet sentimiento\n",
       "1  @PauladeLasHeras No te libraras de ayudar me/n...      neutro\n",
       "2                          @marodriguezb Gracias MAR    positivo\n",
       "3  Off pensando en el regalito Sinde, la que se v...    negativo\n",
       "4  Conozco a alguien q es adicto al drama! Ja ja ...    positivo\n",
       "6  Toca @crackoviadeTV3 . Grabación dl especial N...    positivo\n",
       "8  Buen día todos! Lo primero mandar un abrazo gr...    positivo\n",
       "9  Desde el escaño. Todo listo para empezar #endi...    positivo"
      ]
     },
     "execution_count": 3,
     "metadata": {},
     "output_type": "execute_result"
    }
   ],
   "source": [
    "\n",
    "tweets_file = './Datos/tweets_castellano.txt'\n",
    "df = pd.read_csv(tweets_file, sep=\"::::\", names=['tweet','sentimiento'] ,engine='python')\n",
    "df = df[df['sentimiento'].isin(['positivo', 'neutro', 'negativo'])] #  NON rated tweet 'sentimiento' not selected\n",
    "tweets = [tuple(x) for x in df.values]\n",
    "print('Número de Tweets Cargados: {num}'.format(num=len(tweets)))\n",
    "df.head(7)"
   ]
  },
  {
   "cell_type": "code",
   "execution_count": 4,
   "metadata": {},
   "outputs": [
    {
     "data": {
      "text/plain": [
       "<AxesSubplot:>"
      ]
     },
     "execution_count": 4,
     "metadata": {},
     "output_type": "execute_result"
    },
    {
     "data": {
      "image/png": "[encoded data removed]",
      "text/plain": [
       "<Figure size 432x288 with 1 Axes>"
      ]
     },
     "metadata": {
      "needs_background": "light"
     },
     "output_type": "display_data"
    }
   ],
   "source": [
    "# distribution of 'sentimiento'\n",
    "df['sentimiento'].hist()"
   ]
  },
  {
   "cell_type": "code",
   "execution_count": 5,
   "metadata": {},
   "outputs": [],
   "source": [
    "# transforming into columns  for modeling\n",
    "X= [doc[0] for doc in tweets]\n",
    "y = [doc[1] for doc in tweets]"
   ]
  },
  {
   "cell_type": "markdown",
   "metadata": {},
   "source": [
    "<hr>\n",
    "\n",
    "\n",
    "## Normalization\n",
    "\n"
   ]
  },
  {
   "cell_type": "markdown",
   "metadata": {},
   "source": [
    "\n",
    "Including\n",
    "   - converting  tokens into lowcase\n",
    "   - deleting punctions\n",
    "   - Selecting only words> 3 char\n",
    "   - Deleting stop-words\n",
    "   -  Deleting links \n",
    "    "
   ]
  },
  {
   "cell_type": "markdown",
   "metadata": {},
   "source": [
    "* Loading NLP Spanish model"
   ]
  },
  {
   "cell_type": "code",
   "execution_count": 6,
   "metadata": {},
   "outputs": [],
   "source": [
    "nlp = spacy.load('es_core_news_sm')"
   ]
  },
  {
   "cell_type": "code",
   "execution_count": 7,
   "metadata": {},
   "outputs": [],
   "source": [
    "X_norm=normalize(X)"
   ]
  },
  {
   "cell_type": "markdown",
   "metadata": {},
   "source": [
    "<hr>\n",
    "\n",
    "\n",
    "## Bag of Words\n",
    "\n"
   ]
  },
  {
   "cell_type": "code",
   "execution_count": 8,
   "metadata": {},
   "outputs": [],
   "source": [
    "# 200 words more frequent with at least 3 charcter\n",
    "vectorizer = CountVectorizer(max_features=2000, min_df=3)\n",
    "\n",
    "# trasnforming tweets to the BoW\n",
    "\n",
    "X_norm_vect = vectorizer.fit_transform(X_norm)"
   ]
  },
  {
   "cell_type": "code",
   "execution_count": 9,
   "metadata": {
    "scrolled": true
   },
   "outputs": [
    {
     "name": "stdout",
     "output_type": "stream",
     "text": [
      "['000', '0l0hzkdb', '10', '100', '11', '110', '12', '130', '15', '150', '15h', '17congresopp', '1812', '20', '200', '2008', '2009', '2010', '2011', '2012', '2020', '20n', '22', '23f', '25', '25mrebélate', '300', '30h', '38congresopsoe', '40', '400', '50', '500', '70', '700', '75', '7714', 'abajo', 'abandonar', 'abc', 'abcdesevillo', 'abertzale', 'abierto', 'abogado', 'aborto', 'abrazar', 'abrazo', 'abril', 'abrir', 'absoluto', 'acabar', 'acceso', 'accidente', 'acción', 'aceptar', 'acercar', 'acertado', 'acertar', 'aclarar', 'acoger', 'acompañar', 'acordar', 'actitud', 'actividad', 'activo', 'acto', 'actor', 'actuación', 'actual', 'actualización', 'actuar', 'acudir', 'acuerdo', 'acusación', 'acusado', 'acusar', 'adecuado', 'adelantar', 'adiós', 'administración', 'administrativo', 'admiración', 'admitir', 'adolescente', 'adorar', 'aeropuerto', 'afectado', 'afectar', 'afganistar', 'afganistán', 'afirmar', 'afrontar', 'agencia', 'agente', 'agradecer', 'agresión', 'agricultura', 'agrupación', 'agua', 'aguirrir', 'ahorro', 'aire', 'ajustado', 'ajuste', 'albert', 'alberto', 'alcalde', 'alcanzar', 'alegrar', 'alegría', 'alemania', 'alemán', 'alfonso', 'alfredo', 'alguien', 'all', 'allá', 'alma', 'almería', 'alonso', 'alternativo', 'alto', 'altura', 'alumno', 'amable', 'amaiur', 'amanecer', 'amar', 'amarillo', 'ambiente', 'amenazar', 'amig', 'amiga', 'amigo', 'amiguete', 'amistad', 'amnistía', 'amnistío', 'amor', 'ampliar', 'amplio', 'ana', 'analizar', 'andalucia', 'andalucir', 'andalucía', 'andalucío', 'andaluz', 'andaluza', 'andar', 'angel', 'animar', 'animo', 'anoche', 'anotar', 'antena', 'anterior', 'anti', 'antiguo', 'antigüedad', 'antisistema', 'antonio', 'anular', 'anunciar', 'anuncio', 'análisis', 'apagar', 'aparato', 'aparecer', 'apetecer', 'aplaudir', 'aplauso', 'aplicación', 'aplicar', 'apostar', 'apoyar', 'apoyo', 'app', 'apple', 'aprender', 'aprobado', 'aprobar', 'aprovechar', 'apuesta', 'apuntar', 'ar', 'archivo', 'arder', 'arena', 'argentina', 'argentino', 'argumento', 'arma', 'armado', 'arrancar', 'arreglar', 'arte', 'articulo', 'artist', 'artista', 'artículo', 'asambleamadrid', 'asegurar', 'asesinato', 'asesino', 'asistir', 'asociación', 'aspirar', 'asturia', 'asturiano', 'asumir', 'asunto', 'atacar', 'ataque', 'atención', 'atender', 'atentado', 'athletic', 'atrás', 'audiencia', 'auditorio', 'aumentar', 'aumento', 'aunq', 'aupar', 'ausencia', 'austeridad', 'autonomía', 'autonómico', 'autónomo', 'aval', 'avance', 'avanzar', 'avatar', 'ave', 'avisar', 'aviso', 'avión', 'ayto', 'ayuda', 'ayudar', 'ayuntamiento', 'aznar', 'azul', 'año', 'baja', 'bajar', 'bajo', 'balance', 'balear', 'baloncesto', 'banca', 'bancario', 'banco', 'bandera', 'banquillo', 'barato', 'barcelona', 'barco', 'barrio', 'barroso', 'barça', 'base', 'bastar', 'basura', 'batalla', 'batasuna', 'bañez', 'bce', 'bcn', 'bcna', 'bdía', 'beber', 'bello', 'beneficiar', 'beneficio', 'bernabéu', 'besazo', 'beso', 'bienestar', 'bienvenido', 'bilbao', 'bildu', 'billón', 'bit', 'bla', 'blanco', 'blog', 'boca', 'boe', 'bolsa', 'bomba', 'bonito', 'bono', 'botella', 'botín', 'brasil', 'brava', 'bravo', 'brazo', 'brillante', 'brillar', 'broma', 'brusela', 'brutal', 'bss', 'buenísimo', 'buscar', 'báñez', 'caber', 'cabeza', 'cadáver', 'caer', 'cafe', 'café', 'caja', 'calcular', 'calendario', 'calidad', 'caliente', 'calificar', 'callar', 'calle', 'calor', 'cama', 'cambiar', 'cambio', 'cameron', 'camino', 'camiseta', 'camp', 'campaña', 'campeón', 'campo', 'camps', 'canal', 'cancer', 'canción', 'candidato', 'candidatura', 'cansado', 'cantar', 'capacidad', 'capaz', 'capitán', 'car', 'cara', 'carga', 'cargar', 'cargo', 'cariño', 'carlo', 'carmen', 'carrera', 'carretera', 'carta', 'cartel', 'casa', 'casco', 'casilla', 'caso', 'castellón', 'castilla', 'castillo', 'catalunya', 'cataluña', 'catalán', 'causa', 'caída', 'ccaa', 'ccoo', 'celebrar', 'cementerio', 'cena', 'cenar', 'censurar', 'central', 'centro', 'ceo', 'ceoe', 'cercano', 'cerrado', 'cerrar', 'cgpj', 'chacón', 'chav', 'chica', 'chico', 'chile', 'china', 'chino', 'cielo', 'ciento', 'cierre', 'cifra', 'cine', 'cis', 'cita', 'citar', 'ciu', 'ciudad', 'ciudadano', 'ciudadanía', 'civil', 'clase', 'clave', 'club', 'clásico', 'cmin', 'co', 'coacción', 'cobrar', 'coca', 'coche', 'coger', 'coincidir', 'cola', 'colaboración', 'colegio', 'colombia', 'color', 'columna', 'com', 'comentario', 'comenzar', 'comer', 'comercio', 'cometer', 'comida', 'comienzo', 'comisión', 'comité', 'comparecencia', 'comparecer', 'compartir', 'compañera', 'compañero', 'compañía', 'competencia', 'completo', 'comprar', 'comprometer', 'comprometido', 'compromiso', 'comunicación', 'comunidad', 'común', 'con', 'concepto', 'concierto', 'conclusión', 'concordia', 'concreto', 'concurso', 'condena', 'condenado', 'condenar', 'condición', 'confianza', 'confirmar', 'confundir', 'congelar', 'congreso', 'conocer', 'consciente', 'consecuencia', 'conseguir', 'consejero', 'consejo', 'consenso', 'constitucional', 'constitución', 'construcción', 'consumo', 'cont', 'contador', 'contar', 'contenido', 'contento', 'contestar', 'continúar', 'contrario', 'contratar', 'contrato', 'contribuir', 'control', 'convencer', 'convencido', 'convenio', 'convertir', 'convocado', 'convocar', 'copa', 'copago', 'corazon', 'corazón', 'correo', 'correr', 'corrupción', 'corrupto', 'corte', 'corto', 'cosa', 'cospedal', 'costa', 'costar', 'crack', 'creación', 'creador', 'crear', 'crecer', 'crecimiento', 'credibilidad', 'creer', 'crisis', 'cristiano', 'criterio', 'criticar', 'cruz', 'crédito', 'crítica', 'crónica', 'cuarto', 'cuba', 'cubano', 'cuenta', 'cuerpo', 'cuidar', 'culo', 'culpa', 'culpable', 'cultura', 'cultural', 'cumbre', 'cumpleaños', 'cumplir', 'curiosidad', 'curioso', 'curso', 'cádiz', 'cámara', 'cáncer', 'cárcel', 'córdoba', 'dar', 'dato', 'david', 'davis', 'daño', 'de', 'debate', 'debateand', 'debatir', 'deber', 'decidir', 'decir', 'decisión', 'declaración', 'declarar', 'decreto', 'dedicado', 'dedicar', 'defender', 'defensa', 'deficit', 'dejar', 'dejo', 'delegada', 'delegado', 'delito', 'demagogia', 'demasiado', 'democracia', 'democrático', 'demostrar', 'denuncia', 'denunciar', 'depender', 'deportivo', 'derecha', 'derecho', 'derroche', 'derrota', 'desaparecer', 'descansar', 'descanso', 'descombacant', 'descubrir', 'desear', 'desempleo', 'deseo', 'desigualdad', 'desmentir', 'despedir', 'despertar', 'despido', 'despilfarro', 'destrucción', 'destruir', 'detalle', 'detención', 'detener', 'detenido', 'deuda', 'devolución', 'devolver', 'dgt', 'diario', 'diciembre', 'diego', 'diez', 'diferencia', 'dificultad', 'difícil', 'digital', 'dimisión', 'dinero', 'dio', 'diputación', 'diputado', 'direccion', 'dirección', 'directivo', 'directo', 'director', 'dirigente', 'dirigir', 'discapacidad', 'disco', 'discrepar', 'disculpa', 'discurso', 'discutir', 'disfrutar', 'disidente', 'disponible', 'distinto', 'divertido', 'diálogo', 'dolor', 'domingo', 'don', 'dormir', 'droga', 'dsd', 'duda', 'duelo', 'duer', 'dueño', 'dulce', 'duplicidad', 'duran', 'durar', 'duro', 'déficit', 'díaz', 'díez', 'echar', 'economia', 'economía', 'económico', 'ecuador', 'edad', 'edición', 'edificio', 'editorial', 'educación', 'educativo', 'eeuu', 'efe', 'ejecutar', 'ejecutiva', 'el', 'elcambioandaluz', 'elección', 'electoral', 'elegir', 'elemento', 'eliminar', 'elorrio', 'elprimernaufragio', 'eléctrico', 'embajada', 'emocionante', 'emoción', 'empezar', 'empresa', 'empresario', 'encantado', 'encantar', 'encontrar', 'encuentro', 'encuesta', 'enemigo', 'energía', 'enero', 'enfermedad', 'enfermo', 'enfrentar', 'engañar', 'enhorabuena', 'enmienda', 'enorme', 'enrique', 'entender', 'enterar', 'entidad', 'entrada', 'entrar', 'entregar', 'entrevista', 'enviar', 'epn', 'equipo', 'equivocar', 'erar', 'erc', 'ere', 'erir', 'error', 'escandaloso', 'escaño', 'escenario', 'escolar', 'escribir', 'escrito', 'escucha', 'escuchar', 'esencial', 'esfuerzo', 'espacio', 'españa', 'españo', 'español', 'especial', 'espectacular', 'espectáculo', 'espera', 'esperanza', 'esperar', 'espinoso', 'estabilidad', 'estación', 'estar', 'estrategia', 'estrenar', 'estreno', 'estructural', 'estudiante', 'estudio', 'estupendo', 'eta', 'etarra', 'eterno', 'euro', 'europa', 'europeo', 'euros', 'evitar', 'excelente', 'exceso', 'exigir', 'existir', 'expectación', 'experiencia', 'experto', 'explicación', 'explicar', 'explosión', 'exterior', 'extorsión', 'extraordinario', 'extraño', 'extremadura', 'extremo', 'fabra', 'facebook', 'factura', 'fallo', 'falso', 'falta', 'faltar', 'familia', 'familiar', 'famoso', 'fan', 'fantástico', 'favor', 'favorito', 'febrero', 'fecha', 'federación', 'felicidad', 'felicitación', 'felicitar', 'felipe', 'feliz', 'feliz2012', 'feo', 'feria', 'fernández', 'festival', 'fiesta', 'figura', 'fijo', 'financiero', 'firma', 'firmar', 'fiscal', 'fiscalía', 'floriano', 'fmi', 'followercet', 'fomentar', 'fondo', 'forma', 'formación', 'formar', 'foro', 'fotito', 'foto', 'fotografía', 'fracaso', 'fraga', 'fragar', 'francia', 'francés', 'franquismo', 'frase', 'fraude', 'frenar', 'frente', 'frio', 'frío', 'fuengirola', 'fuente', 'fuerte', 'fuerza', 'funcionar', 'funcionario', 'función', 'fundación', 'fundador', 'futuro', 'fácil', 'fútbol', 'gala', 'galicia', 'gallardón', 'gallego', 'gana', 'ganador', 'ganar', 'garantizar', 'garcir', 'garzon', 'garzón', 'gastar', 'gasto', 'gato', 'generación', 'general', 'generalitat', 'generar', 'genial', 'gente', 'gestión', 'gesto', 'gira', 'gob', 'gobernante', 'gobernar', 'gobierno', 'gobiernodelcambio', 'gol', 'golpe', 'gonzález', 'google', 'govern', 'goya', 'grabar', 'gracia', 'gracias', 'grado', 'gral', 'granada', 'grandar', 'grande', 'gratis', 'gratuito', 'grave', 'grecia', 'grito', 'griñar', 'griñán', 'grupo', 'gt', 'guapo', 'guardia', 'guerra', 'guerrero', 'guindo', 'gustar', 'gusto', 'gómez', 'gürtel', 'haber', 'hablar', 'habéis', 'hacer', 'hacienda', 'hala', 'hambre', 'happy', 'hemeroteca', 'herido', 'hermano', 'hermoso', 'hierro', 'hija', 'hijo', 'historia', 'histórico', 'hola', 'hombre', 'homenaje', 'honor', 'hora', 'hospital', 'huelga', 'huevo', 'humanidad', 'humano', 'humor', 'héroe', 'ibex', 'idea', 'iglesia', 'ignacio', 'igualdad', 'igualmente', 'iker', 'ilusión', 'imagen', 'imaginar', 'impedir', 'implicar', 'imponer', 'importancia', 'importante', 'importar', 'imposible', 'imprescindible', 'impresionante', 'impuesto', 'imputado', 'imputar', 'incendio', 'incluir', 'increible', 'increíble', 'incumplir', 'independiente', 'indignante', 'indulto', 'industria', 'infantil', 'influencia', 'info', 'información', 'informado', 'informar', 'informativo', 'informe', 'ingreso', 'iniciativa', 'injusto', 'inocente', 'insistir', 'insomne', 'institución', 'instituto', 'insultar', 'insulto', 'integración', 'inteligente', 'intenso', 'intentar', 'interesante', 'interior', 'internacional', 'internet', 'interno', 'intervención', 'intervenir', 'interés', 'inventar', 'inversión', 'investidura', 'investidurar', 'investidurarajoy', 'investigación', 'investigador', 'investigar', 'invitado', 'ipad', 'ir', 'irar', 'ired', 'irpf', 'irregular', 'isabel', 'italiano', 'iva', 'izquierda', 'iñaki', 'jajajajar', 'jajajar', 'jajar', 'jaumir', 'javier', 'jefe', 'jeje', 'jordi', 'jorge', 'jornada', 'jose', 'josé', 'joven', 'juan', 'judicial', 'juego', 'jueves', 'juez', 'jugador', 'jugar', 'juicio', 'julio', 'junta', 'junto', 'jurado', 'justicia', 'justificar', 'justo', 'juvenil', 'juzgar', 'la', 'laboral', 'lachispadelavido', 'lamentar', 'lanza', 'lanzar', 'largo', 'lección', 'leche', 'lector', 'leer', 'legal', 'legislatura', 'lengua', 'lenguaje', 'leo', 'letra', 'levantar', 'ley', 'león', 'liar', 'liberal', 'libertad', 'libre', 'libro', 'licencia', 'liderar', 'liderazgo', 'liga', 'linchamiento', 'lindo', 'line', 'link', 'lista', 'listo', 'livir', 'llamada', 'llamar', 'llegada', 'llegar', 'llenar', 'lleno', 'llevar', 'llorar', 'llover', 'lluvia', 'local', 'loco', 'logo', 'lograr', 'losdesayunosdetve', 'love', 'lt', 'lucha', 'luchar', 'lui', 'luis', 'lujo', 'luna', 'lunes', 'luz', 'lástima', 'líder', 'línea', 'lío', 'lógico', 'lópez', 'machista', 'macro', 'madre', 'madrid', 'madridista', 'madrileño', 'maestro', 'magistrado', 'magnífico', 'mago', 'majo', 'mala', 'malago', 'mallorca', 'malo', 'mandar', 'manifestación', 'manifiesto', 'mano', 'mantener', 'manuel', 'mapa', 'mar', 'maravilla', 'maravillar', 'maravilloso', 'marca', 'marcar', 'marcha', 'margallo', 'margen', 'mariano', 'marido', 'marta', 'martes', 'martín', 'marzo', 'maría', 'masivo', 'mata', 'matar', 'materia', 'matrimonio', 'mayor', 'mayoría', 'mañana', 'medida', 'medio', 'mediático', 'mejor', 'mejorar', 'memoria', 'menor', 'mensaje', 'mentir', 'mentira', 'mercado', 'merecer', 'merecido', 'merkel', 'mes', 'mesa', 'messi', 'meter', 'metro', 'mexico', 'miedo', 'miembro', 'miguel', 'mil', 'militante', 'militar', 'mill', 'millón', 'min', 'mingote', 'ministerio', 'ministra', 'ministro', 'minuto', 'mirada', 'mirandés', 'mirar', 'mitad', 'mitin', 'miércoles', 'modelo', 'moderado', 'moderno', 'momento', 'moncloa', 'montar', 'monte', 'monti', 'montoro', 'moral', 'morenés', 'morir', 'mostrar', 'motor', 'mover', 'muchísimo', 'muerte', 'muerto', 'muestra', 'mujer', 'mundial', 'mundo', 'municipal', 'municipio', 'museo', 'musico', 'málaga', 'máximo', 'médico', 'méxico', 'mínimo', 'móvil', 'música', 'nacer', 'nacional', 'nadal', 'navarra', 'navarro', 'navidad', 'navideño', 'necesario', 'necesidad', 'necesitar', 'negar', 'negativo', 'negociar', 'negocio', 'negro', 'nivel', 'niña', 'niño', 'no', 'noche', 'noches', 'nombramiento', 'nombre', 'normalidad', 'nota', 'notar', 'noticia', 'novela', 'nuclear', 'número', 'obama', 'objetivo', 'obligado', 'obligar', 'obra', 'obsesión', 'ocultar', 'oculto', 'ocurrir', 'oeoeoeoeoeoeoe', 'oferta', 'off', 'oficial', 'ofrecer', 'oir', 'ojala', 'ojalá', 'ojo', 'olar', 'olvidar', 'once', 'onu', 'opción', 'operación', 'opinar', 'opinión', 'oponer', 'oportunidad', 'oposición', 'orbyt', 'orden', 'ordóñez', 'org', 'organismo', 'organización', 'organizado', 'orgulloso', 'original', 'oro', 'oscar', 'ovación', 'oído', 'oír', 'pablo', 'pacto', 'padre', 'pagar', 'pago', 'palabra', 'palma', 'pan', 'papa', 'papel', 'papelón', 'papá', 'par', 'parado', 'parar', 'parecer', 'pareja', 'parir', 'parlament', 'parlamentario', 'parlamento', 'paro', 'parque', 'participación', 'participar', 'particular', 'partidario', 'partidazo', 'partido', 'pasar', 'paseo', 'pasillo', 'paso', 'patada', 'patrimonio', 'patronal', 'patxi', 'patético', 'pau', 'paz', 'país', 'pdwfyyra', 'pedazo', 'pedir', 'pedro', 'pegar', 'pelear', 'peli', 'peligroso', 'pelo', 'película', 'pena', 'penal', 'pendiente', 'pensamiento', 'pensar', 'pensión', 'pepe', 'pequeño', 'per', 'perder', 'perdáis', 'perdón', 'perfectamente', 'perfil', 'periodismo', 'periodista', 'periódico', 'permanente', 'permitir', 'perro', 'persecución', 'perseguir', 'persona', 'personaje', 'personal', 'personalmente', 'pesca', 'pese', 'peso', 'petición', 'pge', 'pib', 'pic', 'pie', 'piel', 'pierda', 'pilar', 'piloto', 'piquete', 'pirata', 'placer', 'plan', 'planta', 'plantar', 'plantear', 'plantilla', 'playa', 'plaza', 'plazo', 'pleno', 'pluralidad', 'pnv', 'pobre', 'poder', 'policial', 'policía', 'politico', 'polonia', 'polémica', 'política', 'político', 'poner', 'popular', 'poquito', 'porquepúblicohacefalta', 'porqué', 'portada', 'portadaepc', 'portavoz', 'portugal', 'posado', 'posesión', 'posición', 'positivegeneration', 'positivo', 'post', 'pp', 'practicar', 'precio', 'precioso', 'preferir', 'pregunta', 'preguntar', 'premiado', 'premiar', 'premio', 'premiosapp', 'prensa', 'preocupar', 'preparado', 'preparar', 'prescripción', 'presencia', 'presentación', 'presentar', 'presente', 'presidenta', 'presidente', 'presidir', 'presión', 'preso', 'prestación', 'prestar', 'presunto', 'presupuestario', 'presupuesto', 'pretender', 'previsible', 'previsión', 'previsto', 'prima', 'primario', 'primavera', 'primero', 'primo', 'principal', 'principio', 'prioridad', 'prisa', 'prisión', 'privado', 'privatización', 'privilegio', 'probar', 'problema', 'proceso', 'producir', 'producto', 'profesional', 'profesión', 'profesor', 'profundo', 'programa', 'prohibir', 'promesa', 'prometer', 'proponer', 'propuesta', 'protagonista', 'proteger', 'protesta', 'protestar', 'proveedor', 'provincia', 'provocar', 'proyecto', 'prueba', 'práctica', 'próximo', 'psc', 'psoe', 'pte', 'publica', 'publicar', 'publicidad', 'publico', 'pueblo', 'puente', 'puerta', 'puerto', 'puesto', 'punto', 'puro', 'pyme', 'página', 'pérez', 'público', 'q9hzeylp', 'quebrar', 'quedar', 'quejar', 'querer', 'querido', 'quiebra', 'quinto', 'quitar', 'quitateeltop', 'radical', 'radio', 'rafa', 'rajar', 'rajoy', 'rajoyir', 'rato', 'razonable', 'razón', 'rbcb', 'reacción', 'real', 'realidad', 'realista', 'realmente', 'rebaja', 'recesión', 'receta', 'rechazar', 'recibido', 'recibir', 'reclamar', 'recoger', 'recomeir', 'recomendable', 'recomendación', 'recomendar', 'reconocer', 'reconocimiento', 'recordar', 'recortar', 'recorte', 'rectificar', 'recuento', 'recuerdo', 'recuperado', 'recuperar', 'recurrir', 'recurso', 'red', 'redacción', 'reducción', 'reducir', 'referencia', 'referir', 'reflexión', 'reforma', 'reformalaboral', 'regalar', 'regalito', 'regalo', 'regeneración', 'regional', 'registrar', 'regla', 'regreso', 'regulador', 'reina', 'reino', 'reir', 'reivindicar', 'relación', 'relato', 'renovación', 'renta', 'renunciar', 'repago', 'repartir', 'reparto', 'repetir', 'reportaje', 'republicano', 'rescate', 'resistir', 'resolver', 'respaldar', 'respetar', 'respeto', 'responder', 'responsabilidad', 'responsable', 'respuesta', 'restaurante', 'resto', 'resultado', 'resumen', 'resurrección', 'retirada', 'retirar', 'reto', 'retrasar', 'retraso', 'reunir', 'reunión', 'reuters', 'revisar', 'revisión', 'revista', 'revolución', 'rey', 'reír', 'ricardo', 'rico', 'ridículo', 'riesgo', 'rigor', 'riqueza', 'risa', 'risto', 'rne', 'robar', 'rodriguez', 'rodríguez', 'rojo', 'romney', 'romper', 'rosa', 'rosa10', 'rt', 'rtve', 'rubal', 'rubalcaba', 'rubalcar', 'rubio', 'rueda', 'ruido', 'ruina', 'ruiz', 'rumbo', 'rusia', 'ruso', 'récord', 'réplica', 'río', 'saber', 'sabio', 'sacar', 'sal', 'sala', 'salamanco', 'salarial', 'salario', 'salgado', 'salida', 'salir', 'saltar', 'salud', 'saludar', 'saludo', 'salvar', 'san', 'sangre', 'sanidad', 'sanitario', 'sano', 'santamaría', 'santander', 'santo', 'sanz', 'sarko', 'sarkozy', 'sebastián', 'sec', 'sección', 'secretario', 'secreto', 'sectario', 'sector', 'sede', 'seguido', 'seguidor', 'seguimiento', 'seguir', 'segundo', 'seguridad', 'seguro', 'semana', 'senado', 'sensato', 'sentado', 'sentar', 'sentencia', 'sentido', 'sentir', 'ser', 'sergio', 'serie', 'serio', 'servicio', 'servir', 'sevilla', 'sevillahoy', 'sevillar', 'sexto', 'señal', 'señalar', 'señor', 'señora', 'sierra', 'siglo', 'signo', 'simple', 'sinde', 'sindical', 'sindicato', 'siquiera', 'siria', 'sirio', 'sistema', 'sitio', 'situación', 'sobrar', 'social', 'socialista', 'sociedad', 'socio', 'sol', 'soledad', 'soler', 'solidaridad', 'solución', 'sombra', 'sonar', 'sonoro', 'sonriente', 'sonrisa', 'soraya', 'sorayar', 'sorayo', 'sorprendente', 'sorprender', 'sorpresa', 'sorry', 'sorteo', 'sospecha', 'soñar', 'spain', 'spanair', 'ssanta12', 'subasta', 'subida', 'subir', 'subvención', 'sueldo', 'suelo', 'suerte', 'sueño', 'suficiente', 'sufrir', 'suite', 'sumar', 'sumario', 'sumir', 'superar', 'superior', 'suponer', 'supremo', 'supresión', 'suprimir', 'sur', 'suscribir', 'suspensión', 'suyo', 'sábado', 'taller', 'tanto', 'tardar', 'tarde', 'tarjeta', 'tasa', 'taxi', 'teatro', 'tecnología', 'tele', 'telediario', 'teléfono', 'tema', 'temer', 'temporada', 'tendré', 'tener', 'tensión', 'tentación', 'tenéi', 'tenéis', 'tercer', 'tercero', 'terminar', 'terreno', 'terrorismo', 'terrorista', 'tertulia', 'tesoro', 'testimonio', 'texto', 'the', 'tiempo', 'tienda', 'tierra', 'timeline', 'tipo', 'tirar', 'titular', 'tocar', 'tod', 'today', 'toledo', 'tomar', 'tomás', 'tono', 'tonto', 'top', 'topic', 'torno', 'toro', 'torre', 'tortura', 'totalmente', 'toxo', 'trabajador', 'trabajar', 'traer', 'tragar', 'tragedia', 'trama', 'tranquilo', 'transparencia', 'transporte', 'trasladar', 'traspaso', 'tratar', 'tremendo', 'tren', 'trending', 'tribuna', 'tribunal', 'trillo', 'triste', 'tristeza', 'triunfar', 'triunfo', 'tráfico', 'tuit', 'tuitear', 'tuitero', 'turismo', 'turista', 'turno', 'turístico', 'tve', 'tweet', 'twitter', 'twittero', 'técnico', 'tío', 'título', 'tú', 'túnel', 'uff', 'ugt', 'ultimo', 'unidad', 'unido', 'union', 'unir', 'universal', 'universidad', 'unión', 'upyd', 'urdangarin', 'urdangarín', 'urge', 'urgencia', 'urgente', 'usuario', 'utilizar', 'vacación', 'vacío', 'valencia', 'valenciano', 'valer', 'valiente', 'valladolid', 'valor', 'valorar', 'vasco', 'vecino', 'vender', 'venezuela', 'venir', 'venta', 'ventaja', 'ver', 'vera', 'veracruz', 'verano', 'verde', 'verdugo', 'vergonzoso', 'vergüenza', 'vero', 'versión', 'verte', 'veto', 'via', 'viajar', 'viaje', 'vicepresidenta', 'vicesecretario', 'victoria', 'vida', 'video', 'videocapítulo', 'viejo', 'viernes', 'vino', 'violencia', 'violento', 'visita', 'visitaelhierrir', 'visitar', 'vista', 'visto', 'viva', 'vivienda', 'vivir', 'vivo', 'vién', 'voluntad', 'voluntario', 'volver', 'vos', 'vosotr', 'votado', 'votapp', 'votar', 'voto', 'voz', 'vuelo', 'vuelta', 'vía', 'víctima', 'vídeo', 'vío', 'washington', 'web', 'wert', 'ya', 'yes', 'yeswespainisdifferent', 'ynterviumarivi', 'yo', 'york', 'zapatero', 'zona', 'álvaro', 'ámbito', 'án', 'ángel', 'ánimo', 'él', 'ético', 'éxito', 'órgano', 'últimamente', 'único', 'útil']\n"
     ]
    }
   ],
   "source": [
    "# Looking at the results\n",
    "\n",
    "print(vectorizer.get_feature_names()) \n"
   ]
  },
  {
   "cell_type": "code",
   "execution_count": 10,
   "metadata": {},
   "outputs": [
    {
     "data": {
      "text/plain": [
       "<AxesSubplot:title={'center':'Palabras con freq>100'}>"
      ]
     },
     "execution_count": 10,
     "metadata": {},
     "output_type": "execute_result"
    },
    {
     "data": {
      "image/png": "[encoded data removed]",
      "text/plain": [
       "<Figure size 2160x720 with 1 Axes>"
      ]
     },
     "metadata": {
      "needs_background": "light"
     },
     "output_type": "display_data"
    }
   ],
   "source": [
    "# Visualization of words >100 repeated\n",
    "\n",
    "#  BoW to dataframe\n",
    "count_list = np.asarray(X_norm_vect.sum(axis=0))[0]\n",
    "word_list = vectorizer.get_feature_names()\n",
    "bow_dic=dict(zip(word_list, count_list)) # BoW to dic\n",
    "bow_df=pd.DataFrame(bow_dic,index=['freq']).transpose() # BoW_dictionario  to dataFrame\n",
    "\n",
    "#chart\n",
    "bow_df[bow_df['freq']>100].sort_values(by='freq',ascending=True).plot(kind='barh',figsize=(30,10),table=False,fontsize=20, title=\"Palabras con freq>100\")\n"
   ]
  },
  {
   "cell_type": "markdown",
   "metadata": {},
   "source": [
    "* Still there are 2/charc token\n"
   ]
  },
  {
   "cell_type": "code",
   "execution_count": 11,
   "metadata": {},
   "outputs": [
    {
     "data": {
      "text/plain": [
       "<AxesSubplot:title={'center':'Palabras con freq>100'}>"
      ]
     },
     "execution_count": 11,
     "metadata": {},
     "output_type": "execute_result"
    },
    {
     "data": {
      "image/png": "[encoded data removed]",
      "text/plain": [
       "<Figure size 2160x720 with 1 Axes>"
      ]
     },
     "metadata": {
      "needs_background": "light"
     },
     "output_type": "display_data"
    }
   ],
   "source": [
    "#  filtering with index of token with  #charct>2 \n",
    "\n",
    "lista_indexes=[]\n",
    "for i in range(0,len(bow_df)):\n",
    "    if len(bow_df.index.values[i])>2:\n",
    "        lista_indexes.append(i)\n",
    "      \n",
    "\n",
    "bow_df=bow_df.iloc[lista_indexes]\n",
    "\n",
    "bow_df[bow_df['freq']>100].sort_values(by='freq',ascending=True).plot(kind='barh',figsize=(30,10),table=False,fontsize=20, title=\"Palabras con freq>100\")\n"
   ]
  },
  {
   "cell_type": "markdown",
   "metadata": {},
   "source": [
    "<hr>\n",
    "\n",
    "\n",
    "## Spliting Data (Train 80% and Test 20%)\n",
    "\n"
   ]
  },
  {
   "cell_type": "code",
   "execution_count": 12,
   "metadata": {},
   "outputs": [],
   "source": [
    "X_train, X_test, y_train, y_test = train_test_split(X_norm_vect, y, test_size=0.2, random_state=42)"
   ]
  },
  {
   "cell_type": "markdown",
   "metadata": {},
   "source": [
    "<hr>\n",
    "\n",
    "\n",
    "## Modeling\n",
    " \n",
    " \n",
    " ### models to be used\n",
    " \n",
    "* Multinomial Naive Bayes\n",
    "* Bernoulli Naive Bayes\n",
    "* Regresion Logistica\n",
    "* Support Vector Machine\n",
    "* Random Forest"
   ]
  },
  {
   "cell_type": "code",
   "execution_count": 13,
   "metadata": {},
   "outputs": [
    {
     "name": "stdout",
     "output_type": "stream",
     "text": [
      "CRETING MODEL: Multinomial Naive Bayes\n",
      "\tAccuracy Train: 0.7870531822144725\n",
      "CRETING MODEL: Bernoulli Naive Bayes\n",
      "\tAccuracy Train: 0.769180470793374\n",
      "CRETING MODEL: Regresion Logistica\n",
      "\tAccuracy Train: 0.8711857018308631\n",
      "CRETING MODEL: SVM lineal\n",
      "\tAccuracy Train: 0.8816477768090671\n",
      "CRETING MODEL: SVM rbf\n",
      "\tAccuracy Train: 0.8825196163905842\n",
      "CRETING MODEL: Random Forest\n",
      "\tAccuracy Train: 0.762205754141238\n"
     ]
    }
   ],
   "source": [
    "# models loading\n",
    "\n",
    "mnb = MultinomialNB()\n",
    "bnb = BernoulliNB()\n",
    "lr = LogisticRegression(solver='lbfgs', multi_class='multinomial', max_iter=1000)\n",
    "svm_lin = SVC(kernel='linear')\n",
    "svm_rbf = SVC(kernel='rbf')\n",
    "rf = RandomForestClassifier(n_estimators=200, bootstrap=True, criterion='gini', max_depth=50, random_state=0)\n",
    "\n",
    "clasificadores = {'Multinomial Naive Bayes': mnb,\n",
    "                  'Bernoulli Naive Bayes': bnb,\n",
    "                  'Regresion Logistica': lr,\n",
    "                  'SVM lineal': svm_lin,\n",
    "                  'SVM rbf': svm_rbf,\n",
    "                  'Random Forest': rf}\n",
    "\n",
    "\n",
    "# Fitting and accuracy calculation\n",
    "for k, v in clasificadores.items():\n",
    "    print ('CRETING MODEL: {clas}'.format(clas=k))\n",
    "    v.fit(X_train, y_train)\n",
    "    accuracy_train = v.score(X_train, y_train)\n",
    "    print ('\\tAccuracy Train: {acc_train}'.format(acc_train=accuracy_train))"
   ]
  },
  {
   "cell_type": "markdown",
   "metadata": {},
   "source": [
    "<hr>\n",
    "\n",
    "\n",
    "## Model Evaluation\n",
    "\n",
    "Metrics to be used for each model:\n",
    "\n",
    "* Accuracy\n",
    "* Precision\n",
    "* Recall\n",
    "* F1"
   ]
  },
  {
   "cell_type": "code",
   "execution_count": 14,
   "metadata": {
    "scrolled": true
   },
   "outputs": [
    {
     "data": {
      "text/html": [
       "<div>\n",
       "<style scoped>\n",
       "    .dataframe tbody tr th:only-of-type {\n",
       "        vertical-align: middle;\n",
       "    }\n",
       "\n",
       "    .dataframe tbody tr th {\n",
       "        vertical-align: top;\n",
       "    }\n",
       "\n",
       "    .dataframe thead th {\n",
       "        text-align: right;\n",
       "    }\n",
       "</style>\n",
       "<table border=\"1\" class=\"dataframe\">\n",
       "  <thead>\n",
       "    <tr style=\"text-align: right;\">\n",
       "      <th></th>\n",
       "      <th>accuracy_train</th>\n",
       "      <th>accuracy_tests</th>\n",
       "      <th>precision_train</th>\n",
       "      <th>precision_tests</th>\n",
       "      <th>recall_train</th>\n",
       "      <th>recall_tests</th>\n",
       "      <th>f1_train</th>\n",
       "      <th>f1_tests</th>\n",
       "    </tr>\n",
       "    <tr>\n",
       "      <th>name</th>\n",
       "      <th></th>\n",
       "      <th></th>\n",
       "      <th></th>\n",
       "      <th></th>\n",
       "      <th></th>\n",
       "      <th></th>\n",
       "      <th></th>\n",
       "      <th></th>\n",
       "    </tr>\n",
       "  </thead>\n",
       "  <tbody>\n",
       "    <tr>\n",
       "      <th>Multinomial Naive Bayes</th>\n",
       "      <td>0.787053</td>\n",
       "      <td>0.677419</td>\n",
       "      <td>0.786625</td>\n",
       "      <td>0.647264</td>\n",
       "      <td>0.787053</td>\n",
       "      <td>0.677419</td>\n",
       "      <td>0.779382</td>\n",
       "      <td>0.658540</td>\n",
       "    </tr>\n",
       "    <tr>\n",
       "      <th>Bernoulli Naive Bayes</th>\n",
       "      <td>0.769180</td>\n",
       "      <td>0.669573</td>\n",
       "      <td>0.769904</td>\n",
       "      <td>0.628494</td>\n",
       "      <td>0.769180</td>\n",
       "      <td>0.669573</td>\n",
       "      <td>0.753846</td>\n",
       "      <td>0.639651</td>\n",
       "    </tr>\n",
       "    <tr>\n",
       "      <th>Regresion Logistica</th>\n",
       "      <td>0.871186</td>\n",
       "      <td>0.650392</td>\n",
       "      <td>0.875440</td>\n",
       "      <td>0.614927</td>\n",
       "      <td>0.871186</td>\n",
       "      <td>0.650392</td>\n",
       "      <td>0.865803</td>\n",
       "      <td>0.626618</td>\n",
       "    </tr>\n",
       "    <tr>\n",
       "      <th>SVM lineal</th>\n",
       "      <td>0.881648</td>\n",
       "      <td>0.626853</td>\n",
       "      <td>0.885592</td>\n",
       "      <td>0.591455</td>\n",
       "      <td>0.881648</td>\n",
       "      <td>0.626853</td>\n",
       "      <td>0.878504</td>\n",
       "      <td>0.605563</td>\n",
       "    </tr>\n",
       "    <tr>\n",
       "      <th>SVM rbf</th>\n",
       "      <td>0.882520</td>\n",
       "      <td>0.652136</td>\n",
       "      <td>0.893475</td>\n",
       "      <td>0.572032</td>\n",
       "      <td>0.882520</td>\n",
       "      <td>0.652136</td>\n",
       "      <td>0.873524</td>\n",
       "      <td>0.608620</td>\n",
       "    </tr>\n",
       "    <tr>\n",
       "      <th>Random Forest</th>\n",
       "      <td>0.762206</td>\n",
       "      <td>0.628596</td>\n",
       "      <td>0.829939</td>\n",
       "      <td>0.559669</td>\n",
       "      <td>0.762206</td>\n",
       "      <td>0.628596</td>\n",
       "      <td>0.738333</td>\n",
       "      <td>0.571707</td>\n",
       "    </tr>\n",
       "  </tbody>\n",
       "</table>\n",
       "</div>"
      ],
      "text/plain": [
       "                         accuracy_train  accuracy_tests  precision_train  \\\n",
       "name                                                                       \n",
       "Multinomial Naive Bayes        0.787053        0.677419         0.786625   \n",
       "Bernoulli Naive Bayes          0.769180        0.669573         0.769904   \n",
       "Regresion Logistica            0.871186        0.650392         0.875440   \n",
       "SVM lineal                     0.881648        0.626853         0.885592   \n",
       "SVM rbf                        0.882520        0.652136         0.893475   \n",
       "Random Forest                  0.762206        0.628596         0.829939   \n",
       "\n",
       "                         precision_tests  recall_train  recall_tests  \\\n",
       "name                                                                   \n",
       "Multinomial Naive Bayes         0.647264      0.787053      0.677419   \n",
       "Bernoulli Naive Bayes           0.628494      0.769180      0.669573   \n",
       "Regresion Logistica             0.614927      0.871186      0.650392   \n",
       "SVM lineal                      0.591455      0.881648      0.626853   \n",
       "SVM rbf                         0.572032      0.882520      0.652136   \n",
       "Random Forest                   0.559669      0.762206      0.628596   \n",
       "\n",
       "                         f1_train  f1_tests  \n",
       "name                                         \n",
       "Multinomial Naive Bayes  0.779382  0.658540  \n",
       "Bernoulli Naive Bayes    0.753846  0.639651  \n",
       "Regresion Logistica      0.865803  0.626618  \n",
       "SVM lineal               0.878504  0.605563  \n",
       "SVM rbf                  0.873524  0.608620  \n",
       "Random Forest            0.738333  0.571707  "
      ]
     },
     "execution_count": 14,
     "metadata": {},
     "output_type": "execute_result"
    }
   ],
   "source": [
    "def evaluation(model, name, X_train, y_train, X_test, y_test):\n",
    "    \"\"\"\n",
    "   \n",
    "    Accuracy, Precision, Recall and F1 data\n",
    "        model: model to evaluate\n",
    "        name: model name\n",
    "        return: diccionary with model names and thier metrics\n",
    "    \"\"\"\n",
    "    model_dict = {}\n",
    "    model_dict['name'] = name\n",
    "    y_pred_train = model.predict(X_train)\n",
    "    y_pred_test = model.predict(X_test)\n",
    "    model_dict['accuracy_train'] = accuracy_score(y_true=y_train, y_pred=y_pred_train)\n",
    "    model_dict['accuracy_tests'] = accuracy_score(y_true=y_test, y_pred=y_pred_test)\n",
    "    model_dict['precision_train'] = precision_score(y_true=y_train, y_pred=y_pred_train, average='weighted')\n",
    "    model_dict['precision_tests'] = precision_score(y_true=y_test, y_pred=y_pred_test, average='weighted')\n",
    "    model_dict['recall_train'] = recall_score(y_true=y_train, y_pred=y_pred_train, average='weighted')\n",
    "    model_dict['recall_tests'] = recall_score(y_true=y_test, y_pred=y_pred_test, average='weighted')\n",
    "    model_dict['f1_train'] = f1_score(y_true=y_train, y_pred=y_pred_train, average='weighted')\n",
    "    model_dict['f1_tests'] = f1_score(y_true=y_test, y_pred=y_pred_test, average='weighted')\n",
    "    \n",
    "    return model_dict\n",
    "\n",
    "\n",
    "# metrics\n",
    "evaluacion = list()\n",
    "for key, model in clasificadores.items():\n",
    "    evaluacion.append(evaluation(model=model, name=key, \n",
    "                                 X_train=X_train, y_train=y_train,\n",
    "                                 X_test=X_test, y_test=y_test))\n",
    "\n",
    "# results to DF\n",
    "results = pd.DataFrame.from_dict(evaluacion)\n",
    "results.set_index(\"name\", inplace=True)\n",
    "results"
   ]
  },
  {
   "cell_type": "code",
   "execution_count": 15,
   "metadata": {},
   "outputs": [
    {
     "data": {
      "text/plain": [
       "<AxesSubplot:title={'center':'f1_test-metrica'}, ylabel='name'>"
      ]
     },
     "execution_count": 15,
     "metadata": {},
     "output_type": "execute_result"
    },
    {
     "data": {
      "image/png": "[encoded data removed]",
      "text/plain": [
       "<Figure size 432x288 with 1 Axes>"
      ]
     },
     "metadata": {
      "needs_background": "light"
     },
     "output_type": "display_data"
    }
   ],
   "source": [
    "results['f1_tests'].sort_values(ascending=True).plot(kind='barh',fontsize=16, title=\"f1_test-metrica\")"
   ]
  },
  {
   "cell_type": "code",
   "execution_count": null,
   "metadata": {},
   "outputs": [],
   "source": []
  }
 ],
 "metadata": {
  "kernelspec": {
   "display_name": "Python 3",
   "language": "python",
   "name": "python3"
  },
  "language_info": {
   "codemirror_mode": {
    "name": "ipython",
    "version": 3
   },
   "file_extension": ".py",
   "mimetype": "text/x-python",
   "name": "python",
   "nbconvert_exporter": "python",
   "pygments_lexer": "ipython3",
   "version": "3.7.9"
  }
 },
 "nbformat": 4,
 "nbformat_minor": 2
}
